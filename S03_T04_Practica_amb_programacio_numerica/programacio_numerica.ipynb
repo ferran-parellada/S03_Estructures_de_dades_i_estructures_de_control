{
 "cells": [
  {
   "cell_type": "markdown",
   "id": "4cab01d3",
   "metadata": {},
   "source": [
    "# Descripció\n",
    "\n",
    "Familiaritza't amb la Programació Numèrica a través de la llibreria NumPy. "
   ]
  },
  {
   "cell_type": "markdown",
   "id": "07e402f5",
   "metadata": {},
   "source": [
    "## <span style='color:Blue'>Nivell 1</span>"
   ]
  },
  {
   "cell_type": "markdown",
   "id": "325d3c9d",
   "metadata": {},
   "source": [
    "### Exercici 1\n",
    "\n",
    "Crea una funció que donat un Array d’una dimensió, et faci un resum estadístic bàsic de les dades. Si detecta que l’array té més d’una dimensió, ha de mostrar un missatge d’error."
   ]
  },
  {
   "cell_type": "code",
   "execution_count": 20,
   "id": "881033c7",
   "metadata": {},
   "outputs": [],
   "source": [
    "import numpy as np\n",
    "\n",
    "def resumEstadistic(arr):\n",
    "    if arr.ndim > 1:\n",
    "        print(\"Error: aquesta funció només admet numpy arrays d'una dimensió.\", end = \"\\n\")\n",
    "        print(\"-\" * 80)\n",
    "        return\n",
    "    print(\"Numpy array:\", arr)\n",
    "    print()\n",
    "    print(\"La suma dels valors és\", np.sum(arr))\n",
    "    print()\n",
    "    print(\"El valor màxim és\", np.max(arr))\n",
    "    print(\"El valor mínim és\", np.min(arr))\n",
    "    print()\n",
    "    print(\"La mitja dels valors és:\", np.mean(arr), end = \"\\n\")\n",
    "    print()\n",
    "        \n",
    "    print(\"El primer quartil és:\", np.percentile(arr, 25))\n",
    "    print(\"La mitjana dels valors és:\", np.median(arr), end = \"\\n\")\n",
    "    print(\"El tercer quartil és:\", np.percentile(arr, 75))\n",
    "    print()\n",
    "    print(\"La desviació estàndar és:\", np.std(arr), end = \"\\n\")\n",
    "    \n",
    "    \n",
    "# Referència:\n",
    "# https://manualestutor.com/programacion/numpy-al-descubierto-una-guia-para-principiantes-sobre-estadisticas-con-numpy/\n",
    " \n"
   ]
  },
  {
   "cell_type": "code",
   "execution_count": 21,
   "id": "edeaecd2",
   "metadata": {},
   "outputs": [
    {
     "name": "stdout",
     "output_type": "stream",
     "text": [
      "Error: aquesta funció només admet numpy arrays d'una dimensió.\n",
      "--------------------------------------------------------------------------------\n"
     ]
    }
   ],
   "source": [
    "# nparray que donarà error\n",
    "arr2D = np.array([[1,2,3,4,5], [6,7,8,9,10]])\n",
    "resumEstadistic(arr2D)"
   ]
  },
  {
   "cell_type": "code",
   "execution_count": 24,
   "id": "a8ffad92",
   "metadata": {},
   "outputs": [
    {
     "name": "stdout",
     "output_type": "stream",
     "text": [
      "Numpy array: [ 1  2  3  4  5 20]\n",
      "La suma dels valors és 35\n",
      "\n",
      "El valor màxim és 20\n",
      "El valor mínim és 1\n",
      "\n",
      "La mitja dels valors és: 5.833333333333333\n",
      "\n",
      "El primer quartil és: 2.25\n",
      "La mitjana dels valors és: 3.5\n",
      "El tercer quartil és: 4.75\n",
      "La desviació estàndar és: 6.465721580423608\n"
     ]
    }
   ],
   "source": [
    "# nparray correcte, cas 1\n",
    "arr1D = np.array([1, 2, 3, 4, 5, 20])\n",
    "resumEstadistic(arr1D)"
   ]
  },
  {
   "cell_type": "markdown",
   "id": "912866a6",
   "metadata": {},
   "source": [
    "### Exercici 2\n",
    "\n",
    "Crea una funció que et generi un quadrat NxN de nombres aleatoris entre el 0 i el 100."
   ]
  },
  {
   "cell_type": "code",
   "execution_count": null,
   "id": "8eae54aa",
   "metadata": {},
   "outputs": [],
   "source": [
    "# Nota: per l'enunciat no queda clar si el 100 ha d'estar inclòs o no.\n",
    "# Suposarem que SÍ."
   ]
  },
  {
   "cell_type": "code",
   "execution_count": 27,
   "id": "58b8787b",
   "metadata": {},
   "outputs": [
    {
     "name": "stdout",
     "output_type": "stream",
     "text": [
      "Array  5 x 5\n",
      "[[89 53 34 13 14]\n",
      " [83 17 52 76 49]\n",
      " [19 27 61 65  6]\n",
      " [21 18 19 59 28]\n",
      " [85 48 93 71 33]]\n",
      "--------------------\n",
      "Array  2 x 2\n",
      "[[28 65]\n",
      " [75 10]]\n"
     ]
    }
   ],
   "source": [
    "def quadratNxN(n):\n",
    "    return np.random.randint(101, size=(n, n))\n",
    "\n",
    "n = 5\n",
    "print(\"Array \", n, \"x\", n)\n",
    "print(quadratNxN(5))\n",
    "print(\"-\" * 20)\n",
    "n = 2\n",
    "print(\"Array \", n, \"x\", n)\n",
    "print(quadratNxN(2))"
   ]
  },
  {
   "cell_type": "markdown",
   "id": "53df79e6",
   "metadata": {},
   "source": [
    "### Exercici 3\n",
    "\n",
    "Crea una funció que donada una taula de dues dimensions, et calculi els totals per fila i els totals per columna. "
   ]
  },
  {
   "cell_type": "code",
   "execution_count": 32,
   "id": "f0ef5c2e",
   "metadata": {},
   "outputs": [
    {
     "name": "stdout",
     "output_type": "stream",
     "text": [
      "[[   0   10]\n",
      " [ 100 1000]]\n",
      "La suma de les columnes és: [ 100 1010]\n",
      "La suma de les fileres és: [  10 1100]\n"
     ]
    }
   ],
   "source": [
    "def sumRowsColumns(arr):\n",
    "    print(\"La suma de les columnes és:\", np.sum(arr, axis=0))\n",
    "    print(\"La suma de les fileres és:\", np.sum(arr, axis=1))\n",
    "\n",
    "arr = np.array([[0, 10], [100, 1000]])\n",
    "print(arr)\n",
    "sumRowsColumns(arr)"
   ]
  },
  {
   "cell_type": "markdown",
   "id": "41173c27",
   "metadata": {},
   "source": [
    "### Exercici 4\n",
    "\n",
    "Implementa manualment una funció que calculi el coeficient de correlació. Informa’t-en sobre els seus usos i interpretació."
   ]
  },
  {
   "cell_type": "code",
   "execution_count": 35,
   "id": "7071cbb8",
   "metadata": {},
   "outputs": [
    {
     "name": "stdout",
     "output_type": "stream",
     "text": [
      "[[   0   10]\n",
      " [ 100 1000]]\n",
      "[  0 100]\n",
      "[  10 1000]\n"
     ]
    }
   ],
   "source": [
    "def rowsAndColumns(arr):\n",
    "    print(\"Columnes és:\", np.array(arr, axis=0))\n",
    "    print(\"Fileres és:\", np.array(arr, axis=1))\n",
    "\n",
    "arr = np.array([[0, 10], [100, 1000]])\n",
    "print(arr)\n",
    "# rowsAndColumns(arr)\n",
    "print(arr[:, 0])\n",
    "print(arr[:, 1])"
   ]
  },
  {
   "cell_type": "code",
   "execution_count": 40,
   "id": "adb335cd",
   "metadata": {},
   "outputs": [],
   "source": [
    "arr1 = np.array([[1,1], [2,2], [3,3]])\n",
    "\n"
   ]
  },
  {
   "cell_type": "code",
   "execution_count": 41,
   "id": "c8912870",
   "metadata": {},
   "outputs": [
    {
     "ename": "ModuleNotFoundError",
     "evalue": "No module named 'geopandas'",
     "output_type": "error",
     "traceback": [
      "\u001b[1;31m---------------------------------------------------------------------------\u001b[0m",
      "\u001b[1;31mModuleNotFoundError\u001b[0m                       Traceback (most recent call last)",
      "\u001b[1;32m<ipython-input-41-fc7d1d298f0c>\u001b[0m in \u001b[0;36m<module>\u001b[1;34m\u001b[0m\n\u001b[1;32m----> 1\u001b[1;33m \u001b[1;32mimport\u001b[0m \u001b[0mgeopandas\u001b[0m\u001b[1;33m\u001b[0m\u001b[1;33m\u001b[0m\u001b[0m\n\u001b[0m",
      "\u001b[1;31mModuleNotFoundError\u001b[0m: No module named 'geopandas'"
     ]
    }
   ],
   "source": [
    "import geopandas"
   ]
  },
  {
   "cell_type": "code",
   "execution_count": 44,
   "id": "87767306",
   "metadata": {},
   "outputs": [
    {
     "ename": "ModuleNotFoundError",
     "evalue": "No module named 'chart_studio'",
     "output_type": "error",
     "traceback": [
      "\u001b[1;31m---------------------------------------------------------------------------\u001b[0m",
      "\u001b[1;31mModuleNotFoundError\u001b[0m                       Traceback (most recent call last)",
      "\u001b[1;32m<ipython-input-44-a17c003464f0>\u001b[0m in \u001b[0;36m<module>\u001b[1;34m\u001b[0m\n\u001b[1;32m----> 1\u001b[1;33m \u001b[1;32mimport\u001b[0m \u001b[0mchart_studio\u001b[0m\u001b[1;33m\u001b[0m\u001b[1;33m\u001b[0m\u001b[0m\n\u001b[0m",
      "\u001b[1;31mModuleNotFoundError\u001b[0m: No module named 'chart_studio'"
     ]
    }
   ],
   "source": [
    "import chart_studio"
   ]
  },
  {
   "cell_type": "code",
   "execution_count": null,
   "id": "ab1d77b1",
   "metadata": {},
   "outputs": [],
   "source": []
  }
 ],
 "metadata": {
  "kernelspec": {
   "display_name": "Python 3",
   "language": "python",
   "name": "python3"
  },
  "language_info": {
   "codemirror_mode": {
    "name": "ipython",
    "version": 3
   },
   "file_extension": ".py",
   "mimetype": "text/x-python",
   "name": "python",
   "nbconvert_exporter": "python",
   "pygments_lexer": "ipython3",
   "version": "3.8.8"
  }
 },
 "nbformat": 4,
 "nbformat_minor": 5
}
