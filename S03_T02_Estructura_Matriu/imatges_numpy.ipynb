{
 "cells": [
  {
   "cell_type": "markdown",
   "id": "46a73e3d",
   "metadata": {},
   "source": [
    "# Descripció\n",
    "\n",
    "Anem a practicar i a familiaritzar-nos amb l'estructura de Matrius, dimensió, forma, vectorització i Broadcasting . "
   ]
  },
  {
   "cell_type": "markdown",
   "id": "f6785d83",
   "metadata": {},
   "source": [
    "## <span style='color:Blue'>Nivell 1</span>\n",
    "\n",
    "Treballem els conceptes de l'estructura d'una matriu, dimensió, eixos i la vectorització que ens permet reduir l'ús de for loops en operacions aritmètiques o matemàtiques.."
   ]
  },
  {
   "cell_type": "markdown",
   "id": "58157af2",
   "metadata": {},
   "source": [
    "### Exercici 1\n",
    "\n",
    "Crea un np.array d'una dimensió, que inclogui l'almenys 8 nombres sencers, data type int64. Mostra la dimensió i la forma de la matriu. ."
   ]
  },
  {
   "cell_type": "markdown",
   "id": "d92b106b",
   "metadata": {},
   "source": [
    "### Exercici 2\n",
    "\n",
    "De la matriu de l'exercici 1, calcula el valor mitjà dels valors introduïts i resta la mitjana resultant de cada un dels valors de la matriu."
   ]
  },
  {
   "cell_type": "markdown",
   "id": "a26d63ad",
   "metadata": {},
   "source": [
    "### Exercici 3\n",
    "\n",
    "Crea una matriu bidimensional amb una forma de 5 x 5. Extreu el valor màxim de la matriu, i els valors màxims de cadascun dels seus eixos."
   ]
  },
  {
   "cell_type": "markdown",
   "id": "59ba518e",
   "metadata": {},
   "source": [
    "## <span style='color:Blue'>Nivell 2</span>\n",
    "\n",
    "Treballem els conceptes de l'estructura d'una matriu, Broadcasting, indexació, Mask.. "
   ]
  },
  {
   "cell_type": "markdown",
   "id": "e2113350",
   "metadata": {},
   "source": [
    "### Exercici 4\n",
    "\n",
    "Mostreu-me amb exemples de diferents matrius, la regla fonamental de Broadcasting que diu : \"les matrius es poden transmetre / broadcast si les seves dimensions coincideixen o si una de les matrius té una mida d'1\"."
   ]
  },
  {
   "cell_type": "markdown",
   "id": "13a0f161",
   "metadata": {},
   "source": [
    "### Exercici 5\n",
    "\n",
    "Utilitza la Indexació per extreure els valors d'una columna i una fila de la matriu. I suma els seus valors."
   ]
  },
  {
   "cell_type": "markdown",
   "id": "aad59dbf",
   "metadata": {},
   "source": [
    "### Exercici 6\n",
    "\n",
    "Mask la matriu anterior, realitzeu un càlcul booleà vectoritzat, agafant cada element i comprovant si es divideix uniformement per quatre.\n",
    "\n",
    "Això retorna una matriu de mask de la mateixa forma amb els resultats elementals del càlcul."
   ]
  },
  {
   "cell_type": "markdown",
   "id": "aa33dba1",
   "metadata": {},
   "source": [
    "### Exercici 7\n",
    "\n",
    "A continuació, utilitzeu aquesta màscara per indexar a la matriu de números original. Això fa que la matriu perdi la seva forma original, reduint-la a una dimensió, però encara obteniu les dades que esteu cercant."
   ]
  },
  {
   "cell_type": "markdown",
   "id": "a720f6c6",
   "metadata": {},
   "source": [
    "## <span style='color:Blue'>Nivell 3</span>\n",
    "\n",
    "Manipulació d’imatges amb Matplotlib.\n",
    "\n",
    "Carregareu qualsevol imatge (jpg, png ..) amb Matplotlib. adoneu-vos que les imatges RGB (Red, Green, Blue) són realment només amplades × alçades × 3 matrius (tres canals Vermell, Verd i Blau), una per cada color de nombres enters int8,\n",
    "\n",
    "manipuleu aquests bytes i torneu a utilitzar Matplotlib per desar la imatge modificada un cop hàgiu acabat.\n",
    "\n",
    "Ajuda:Importeu, import matplotlib.image as mpimg. estudieu el metodde mpimg.imread(()"
   ]
  },
  {
   "cell_type": "markdown",
   "id": "534b78df",
   "metadata": {},
   "source": [
    "### Exercici 8\n",
    "\n",
    "Mostreu-me a veure que passa quan eliminem el canal G Verd o B Blau.\n",
    "\n",
    "Mostreu-me a veure què passa quan eliminem el canal G Verd o B Blau. Hauries d'utilitzar la indexació per seleccionar el canal que voleu anul·lar.\n",
    "\n",
    "Utilitzar el mètode, mpimg.imsave () de la llibreria importada, per guardar les imatges modificades i que haureu de pujar al vostre repositori a github."
   ]
  },
  {
   "cell_type": "code",
   "execution_count": null,
   "id": "52ea9859",
   "metadata": {},
   "outputs": [],
   "source": []
  }
 ],
 "metadata": {
  "kernelspec": {
   "display_name": "Python 3",
   "language": "python",
   "name": "python3"
  },
  "language_info": {
   "codemirror_mode": {
    "name": "ipython",
    "version": 3
   },
   "file_extension": ".py",
   "mimetype": "text/x-python",
   "name": "python",
   "nbconvert_exporter": "python",
   "pygments_lexer": "ipython3",
   "version": "3.8.8"
  }
 },
 "nbformat": 4,
 "nbformat_minor": 5
}
