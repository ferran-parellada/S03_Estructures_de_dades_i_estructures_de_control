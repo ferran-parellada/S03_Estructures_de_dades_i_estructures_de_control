{
 "cells": [
  {
   "cell_type": "markdown",
   "id": "b1831dd7",
   "metadata": {},
   "source": [
    "# Descripció\n",
    "\n",
    "Familiaritza't amb les tècniques d'exploració de les dades mitjantçant la estructura de dades, Dataframe amb la llibreria Pandas. "
   ]
  },
  {
   "cell_type": "markdown",
   "id": "00f40940",
   "metadata": {},
   "source": [
    "## <span style='color:Blue'>Nivell 1</span>"
   ]
  },
  {
   "cell_type": "markdown",
   "id": "9bbd55fd",
   "metadata": {},
   "source": [
    "### Exercici 1\n",
    "\n",
    "Descarrega el data set Airlines Delay: Airline on-time statistics and delay causes i carrega’l a un pandas Dataframe. Explora les dades que conté, i queda’t únicament amb les columnes que consideris rellevants."
   ]
  },
  {
   "cell_type": "markdown",
   "id": "7291f17f",
   "metadata": {},
   "source": [
    "### Exercici 2\n",
    "\n",
    "Fes un informe complet del data set:.\n",
    "\n",
    "    Resumeix estadísticament les columnes d’interès\n",
    "    Troba quantes dades faltants hi ha per columna\n",
    "    Crea columnes noves (velocitat mitjana del vol, si ha arribat tard o no...)\n",
    "    Taula de les aerolínies amb més endarreriments acumulats\n",
    "    Quins són els vols més llargs? I els més endarrerits?\n",
    "    Etc.\n"
   ]
  },
  {
   "cell_type": "markdown",
   "id": "37eba30c",
   "metadata": {},
   "source": [
    "### Exercici 3\n",
    "\n",
    "Exporta el data set net i amb les noves columnes a Excel."
   ]
  },
  {
   "cell_type": "code",
   "execution_count": null,
   "id": "041cd266",
   "metadata": {},
   "outputs": [],
   "source": []
  }
 ],
 "metadata": {
  "kernelspec": {
   "display_name": "Python 3",
   "language": "python",
   "name": "python3"
  },
  "language_info": {
   "codemirror_mode": {
    "name": "ipython",
    "version": 3
   },
   "file_extension": ".py",
   "mimetype": "text/x-python",
   "name": "python",
   "nbconvert_exporter": "python",
   "pygments_lexer": "ipython3",
   "version": "3.8.8"
  }
 },
 "nbformat": 4,
 "nbformat_minor": 5
}
